{
 "cells": [
  {
   "cell_type": "code",
   "execution_count": 1,
   "id": "russian-congress",
   "metadata": {},
   "outputs": [],
   "source": [
    "# 必要なSparkモジュールの読み込み\n",
    "from pyspark.sql import SparkSession\n",
    "\n",
    "# SparkSessionの作成\n",
    "spark = SparkSession.builder.getOrCreate()\n",
    "sc = spark.sparkContext"
   ]
  },
  {
   "cell_type": "code",
   "execution_count": 2,
   "id": "lyric-crossing",
   "metadata": {},
   "outputs": [],
   "source": [
    "# RDDの生成\n",
    "# 配列から生成する方法\n",
    "source = [\n",
    "    ('Amber', 22),\n",
    "    ('Alfred', 23),\n",
    "    ('Skye', 4),\n",
    "    ('Albert', 12),\n",
    "    ('Amber', 9),\n",
    "]\n",
    "data = sc.parallelize(source)\n",
    "# ファイルからの読み込み(ファイルデータ：http://tomdrabas.com/data/VS14MORT.txt.gz )\n",
    "# SparkではGzipなどの圧縮ファイルもそのまま扱える\n",
    "data_from_file = sc.textFile(\"/home/jovyan/work/01_入門PySpark/VS14MORT.txt.gz\", 4)"
   ]
  },
  {
   "cell_type": "code",
   "execution_count": 3,
   "id": "powerful-corrections",
   "metadata": {},
   "outputs": [
    {
     "name": "stdout",
     "output_type": "stream",
     "text": [
      "----------  Source  ----------\n",
      "[('Amber', 22), ('Alfred', 23), ('Skye', 4), ('Albert', 12), ('Amber', 9)]\n",
      "----------   File   ----------\n",
      "['                   1                                          2101  M1087 432311  4M4                2014U7CN                                    I64 238 070   24 0111I64                                                                                                                                                                           01 I64                                                                                                  01  11                                 100 601']\n",
      "2631171\n"
     ]
    }
   ],
   "source": [
    "print(\"----------  Source  ----------\")\n",
    "print(data.collect())\n",
    "print(\"----------   File   ----------\")\n",
    "print(data_from_file.take(1))\n",
    "file_row_count = data_from_file.count()\n",
    "print(file_row_count)"
   ]
  },
  {
   "cell_type": "code",
   "execution_count": 4,
   "id": "collect-grant",
   "metadata": {},
   "outputs": [
    {
     "data": {
      "text/plain": [
       "100000"
      ]
     },
     "execution_count": 4,
     "metadata": {},
     "output_type": "execute_result"
    }
   ],
   "source": [
    "# RDDにはスキーマが存在しないので、様々なデータをソースにできる\n",
    "data_heterogenous = sc.parallelize([\n",
    "    ('Ferrari', 'fast'), # タプル(イミュータブルなリスト型)\n",
    "    {'Porsche': 100000 }, # ハッシュ\n",
    "    ('Spaini', 'visited', 4504), # リスト\n",
    "]).collect()\n",
    "data_heterogenous[1]['Porsche']"
   ]
  },
  {
   "cell_type": "code",
   "execution_count": 5,
   "id": "final-positive",
   "metadata": {},
   "outputs": [
    {
     "data": {
      "text/plain": [
       "[array(['1', '  ', '2', '1', '01', 'M', '1', '087', ' ', '43', '23', '11',\n",
       "        '  ', '4', 'M', '4', '2014', 'U', '7', 'C', 'N', ' ', ' ', 'I64 ',\n",
       "        '238', '070', '   ', '24', '01', '11I64  ', '       ', '       ',\n",
       "        '       ', '       ', '       ', '       ', '       ', '       ',\n",
       "        '       ', '       ', '       ', '       ', '       ', '       ',\n",
       "        '       ', '       ', '       ', '       ', '       ', '01',\n",
       "        'I64  ', '     ', '     ', '     ', '     ', '     ', '     ',\n",
       "        '     ', '     ', '     ', '     ', '     ', '     ', '     ',\n",
       "        '     ', '     ', '     ', '     ', '     ', '     ', '01', ' ',\n",
       "        ' ', '1', '1', '100', '6'], dtype='<U40')]"
      ]
     },
     "execution_count": 5,
     "metadata": {},
     "output_type": "execute_result"
    }
   ],
   "source": [
    "# ファイルから読み込んだデータがわかりずらいのでパースする関数の定義\n",
    "# ソース: https://github.com/drabastomek/learningPySpark/blob/master/Chapter02/LearningPySpark_Chapter02.ipynb\n",
    "def extractInformation(row):\n",
    "    import re\n",
    "    import numpy as np\n",
    "\n",
    "    selected_indices = [\n",
    "         2,4,5,6,7,9,10,11,12,13,14,15,16,17,18,\n",
    "         19,21,22,23,24,25,27,28,29,30,32,33,34,\n",
    "         36,37,38,39,40,41,42,43,44,45,46,47,48,\n",
    "         49,50,51,52,53,54,55,56,58,60,61,62,63,\n",
    "         64,65,66,67,68,69,70,71,72,73,74,75,76,\n",
    "         77,78,79,81,82,83,84,85,87,89\n",
    "    ]\n",
    "    record_split = re\\\n",
    "        .compile(\n",
    "            r'([\\s]{19})([0-9]{1})([\\s]{40})([0-9\\s]{2})([0-9\\s]{1})([0-9]{1})([0-9]{2})' + \n",
    "            r'([\\s]{2})([FM]{1})([0-9]{1})([0-9]{3})([0-9\\s]{1})([0-9]{2})([0-9]{2})' + \n",
    "            r'([0-9]{2})([0-9\\s]{2})([0-9]{1})([SMWDU]{1})([0-9]{1})([\\s]{16})([0-9]{4})' +\n",
    "            r'([YNU]{1})([0-9\\s]{1})([BCOU]{1})([YNU]{1})([\\s]{34})([0-9\\s]{1})([0-9\\s]{1})' +\n",
    "            r'([A-Z0-9\\s]{4})([0-9]{3})([\\s]{1})([0-9\\s]{3})([0-9\\s]{3})([0-9\\s]{2})([\\s]{1})' + \n",
    "            r'([0-9\\s]{2})([A-Z0-9\\s]{7})([A-Z0-9\\s]{7})([A-Z0-9\\s]{7})([A-Z0-9\\s]{7})' + \n",
    "            r'([A-Z0-9\\s]{7})([A-Z0-9\\s]{7})([A-Z0-9\\s]{7})([A-Z0-9\\s]{7})([A-Z0-9\\s]{7})' + \n",
    "            r'([A-Z0-9\\s]{7})([A-Z0-9\\s]{7})([A-Z0-9\\s]{7})([A-Z0-9\\s]{7})([A-Z0-9\\s]{7})' + \n",
    "            r'([A-Z0-9\\s]{7})([A-Z0-9\\s]{7})([A-Z0-9\\s]{7})([A-Z0-9\\s]{7})([A-Z0-9\\s]{7})' + \n",
    "            r'([A-Z0-9\\s]{7})([\\s]{36})([A-Z0-9\\s]{2})([\\s]{1})([A-Z0-9\\s]{5})([A-Z0-9\\s]{5})' + \n",
    "            r'([A-Z0-9\\s]{5})([A-Z0-9\\s]{5})([A-Z0-9\\s]{5})([A-Z0-9\\s]{5})([A-Z0-9\\s]{5})' + \n",
    "            r'([A-Z0-9\\s]{5})([A-Z0-9\\s]{5})([A-Z0-9\\s]{5})([A-Z0-9\\s]{5})([A-Z0-9\\s]{5})' + \n",
    "            r'([A-Z0-9\\s]{5})([A-Z0-9\\s]{5})([A-Z0-9\\s]{5})([A-Z0-9\\s]{5})([A-Z0-9\\s]{5})' + \n",
    "            r'([A-Z0-9\\s]{5})([A-Z0-9\\s]{5})([A-Z0-9\\s]{5})([\\s]{1})([0-9\\s]{2})([0-9\\s]{1})' + \n",
    "            r'([0-9\\s]{1})([0-9\\s]{1})([0-9\\s]{1})([\\s]{33})([0-9\\s]{3})([0-9\\s]{1})([0-9\\s]{1})')\n",
    "    try:\n",
    "        rs = np.array(record_split.split(row))[selected_indices]\n",
    "    except:\n",
    "        rs = np.array(['-99'] * len(selected_indices))\n",
    "    return rs\n",
    "\n",
    "# パースを実行する\n",
    "data_from_file_conv = data_from_file.map(extractInformation)\n",
    "data_from_file_conv.take(1)"
   ]
  },
  {
   "cell_type": "code",
   "execution_count": 6,
   "id": "indonesian-palace",
   "metadata": {},
   "outputs": [
    {
     "name": "stdout",
     "output_type": "stream",
     "text": [
      "----- map変換 -----\n",
      "['2014', '2014', '2014', '2014', '2014', '2014', '2014', '2014', '2014', '-99']\n",
      "----- filter変換 -----\n",
      "2631171 -> 22\n",
      "----- flatMap変換 -----\n",
      "['2014', 4028, '2014', 4028, '2014', 4028, '2014', 4028, '2014', 4028]\n",
      "----- distinct変換 -----\n",
      "['M', 'F', '-99']\n",
      "----- sample変換 -----\n",
      "2631171 -> 263247\n",
      "----- leftOuterJoin変換 -----\n",
      "[('b', (4, '6')), ('a', (1, 4)), ('a', (1, 1)), ('c', (10, None))]\n",
      "----- join変換 -----\n",
      "[('b', (4, '6')), ('a', (1, 4)), ('a', (1, 1))]\n",
      "----- leftOuterJoin検証 -----\n",
      "[('a', (1, 4)), ('a', (1, 1)), ('a', (1, 4)), ('a', (1, 1))]\n"
     ]
    }
   ],
   "source": [
    "# 様々な変換処理を実施してみる\n",
    "data_2014 = data_from_file_conv.map(lambda row: row[16])\n",
    "print(\"----- map変換 -----\")\n",
    "print(data_2014.take(10))\n",
    "\n",
    "data_filtered = data_from_file_conv.filter(lambda row: row[16] == '2014' and row[21] == '0')\n",
    "print(\"----- filter変換 -----\")\n",
    "print(str(file_row_count) + \" -> \" +  str(data_filtered.count())) # こっちも処理に時間がかかる\n",
    "\n",
    "data_2014_flat = data_from_file_conv.flatMap(lambda row: (row[16], int(row[16]) * 2) )\n",
    "print(\"----- flatMap変換 -----\")\n",
    "print(data_2014_flat.take(10))\n",
    "\n",
    "# カラムを絞り込んでからdistinctをかける\n",
    "distinct_gender = data_from_file_conv.map(lambda row: row[5]).distinct() # 処理に時間がかかる -> countと同じ理由かな\n",
    "print(\"----- distinct変換 -----\")\n",
    "print(distinct_gender.collect())\n",
    "\n",
    "# 抽出割合\n",
    "fraction = 0.1\n",
    "# 第一引数：サンプリングで置き換えを許容するかのBoolean, 第二引数：抽出比率, 第三引数：乱数シード\n",
    "data_sample = data_from_file_conv.sample(False, fraction, 666)\n",
    "print(\"----- sample変換 -----\")\n",
    "print(str(file_row_count) + \" -> \" +  str(data_sample.count())) # 処理に時間がかかる\n",
    "\n",
    "rdd1 = sc.parallelize([('a', 1), ('b', 4), ('c', 10)])\n",
    "rdd2 = sc.parallelize([('a', 4), ('a', 1), ('b', '6'), ('d', 15)])\n",
    "rdd3 = rdd1.leftOuterJoin(rdd2)\n",
    "print(\"----- leftOuterJoin変換 -----\")\n",
    "print(rdd3.collect()) # rdd1に存在するキー(第一要素)に対して、各キーに対してvalueのタプルを作成する。'a'が2つ出現しているので、多対多になる？\n",
    "rdd3 = rdd1.join(rdd2)\n",
    "print(\"----- join変換 -----\")\n",
    "print(rdd3.collect()) # 両方に存在するキー(第一要素)に対して、各キーに対してvalueのタプルを作成する。'a'が2つ出現しているので、多対多になる？\n",
    "# 検証\n",
    "rdd1 = sc.parallelize([('a', 1), ('a', 1)])\n",
    "rdd2 = sc.parallelize([('a', 4), ('a', 1)])\n",
    "rdd3 = rdd1.leftOuterJoin(rdd2)\n",
    "print(\"----- leftOuterJoin検証 -----\")\n",
    "print(rdd3.collect()) # 両方存在するキー(第一要素)に対して、各キーに対してvalueのタプルを作成する。'a'が2つ出現しているので、多対多になる？\n",
    "# 2 * 2 = 4要素になっている(予想通り)"
   ]
  },
  {
   "cell_type": "code",
   "execution_count": 7,
   "id": "burning-garbage",
   "metadata": {},
   "outputs": [
    {
     "name": "stdout",
     "output_type": "stream",
     "text": [
      "----- take アクション -----\n",
      "[('Amber', 22), ('Alfred', 23)]\n",
      "----- collect アクション -----\n",
      "[('Amber', 22), ('Alfred', 23), ('Skye', 4), ('Albert', 12), ('Amber', 9)]\n",
      "----- reduce アクション -----\n",
      "70\n",
      "----- count アクション -----\n",
      "5\n",
      "----- saveAsTextFile アクション : before -----\n",
      "ls: cannot access 'sample': No such file or directory\n",
      "----- saveAsTextFile アクション : after -----\n",
      "part-00000  part-00003  part-00006  part-00009  _SUCCESS\n",
      "part-00001  part-00004  part-00007  part-00010\n",
      "part-00002  part-00005  part-00008  part-00011\n",
      "----- foreach アクション -----\n"
     ]
    }
   ],
   "source": [
    "# 様々なアクションを試す(すでに実施済みのものもあるが一応)\n",
    "# データ量が多いと処理に時間がかかるので、dataに対して実施する\n",
    "print(\"----- take アクション -----\")\n",
    "print(data.take(2))\n",
    "print(\"----- collect アクション -----\")\n",
    "print(data.collect())\n",
    "print(\"----- reduce アクション -----\")\n",
    "print(data.map(lambda row: row[1]).reduce(lambda x, y: x + y))\n",
    "print(\"----- count アクション -----\")\n",
    "print(data.count())\n",
    "print(\"----- saveAsTextFile アクション : before -----\")\n",
    "%ls sample\n",
    "data.saveAsTextFile(\"sample\")\n",
    "print(\"----- saveAsTextFile アクション : after -----\")\n",
    "%ls sample\n",
    "%rm -r sample\n",
    "print(\"----- foreach アクション -----\")\n",
    "data.foreach(lambda x: print(x)) # notebookに出力するわけではないので出力はない…らしい。"
   ]
  },
  {
   "cell_type": "markdown",
   "id": "above-highland",
   "metadata": {},
   "source": [
    "CLIで実行した結果。実行タイミングによって処理順が異なることがわかる。\n",
    "```bash\n",
    ">>> data.foreach(lambda x: print(x))\n",
    "('Amber', 9)                                                      (0 + 12) / 12]\n",
    "('Albert', 12)\n",
    "('Skye', 4)\n",
    "('Amber', 22)\n",
    "('Alfred', 23)\n",
    ">>> data.foreach(lambda x: print(x))\n",
    "('Alfred', 23)\n",
    "('Amber', 9)\n",
    "('Albert', 12)\n",
    "('Amber', 22)\n",
    "('Skye', 4)\n",
    "```"
   ]
  },
  {
   "cell_type": "code",
   "execution_count": null,
   "id": "supposed-lebanon",
   "metadata": {},
   "outputs": [],
   "source": []
  }
 ],
 "metadata": {
  "kernelspec": {
   "display_name": "Python 3",
   "language": "python",
   "name": "python3"
  },
  "language_info": {
   "codemirror_mode": {
    "name": "ipython",
    "version": 3
   },
   "file_extension": ".py",
   "mimetype": "text/x-python",
   "name": "python",
   "nbconvert_exporter": "python",
   "pygments_lexer": "ipython3",
   "version": "3.8.6"
  }
 },
 "nbformat": 4,
 "nbformat_minor": 5
}
