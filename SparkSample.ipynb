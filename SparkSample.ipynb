{
 "cells": [
  {
   "cell_type": "markdown",
   "id": "enabling-charity",
   "metadata": {},
   "source": [
    "## 参考資料\n",
    "\n",
    "- PySpark API Document: https://spark.apache.org/docs/latest/api/python/index.html\n",
    "- SparkのpackagesをSparkSession作成時に指定する方法: https://qiita.com/junkor-1011/items/b12ec62f2615d068c1a5\n",
    "- Hudiクイックスタート: https://hudi.apache.org/docs/0.7.0-quick-start-guide.html#pyspark-example\n",
    "- Hiveオプションについてのもの: https://dev.classmethod.jp/articles/apache-hudi-on-aws-sync-glue-data-catalog/"
   ]
  },
  {
   "cell_type": "code",
   "execution_count": 1,
   "id": "coordinated-flashing",
   "metadata": {},
   "outputs": [],
   "source": [
    "# 必要なSparkモジュールの読み込み\n",
    "from pyspark.sql import SparkSession"
   ]
  },
  {
   "cell_type": "code",
   "execution_count": 2,
   "id": "confirmed-music",
   "metadata": {},
   "outputs": [],
   "source": [
    "# SparkSessionの作成\n",
    "spark = SparkSession \\\n",
    "    .builder \\\n",
    "    .config(\"spark.jars.packages\", \"org.apache.hudi:hudi-spark-bundle_2.12:0.7.0,org.apache.spark:spark-avro_2.12:3.0.1\") \\\n",
    "    .config('spark.serializer', 'org.apache.spark.serializer.KryoSerializer') \\\n",
    "    .getOrCreate()\n",
    "sc = spark.sparkContext"
   ]
  },
  {
   "cell_type": "code",
   "execution_count": 3,
   "id": "urban-praise",
   "metadata": {},
   "outputs": [],
   "source": [
    "# テーブル設定\n",
    "tableName = \"hudi_trips_cow\"\n",
    "basePath = \"file:///tmp/hudi_trips_cow\"\n",
    "# サンプルデータ生成用ライブラリの読み込み\n",
    "dataGen = sc._jvm.org.apache.hudi.QuickstartUtils.DataGenerator()"
   ]
  },
  {
   "cell_type": "code",
   "execution_count": 4,
   "id": "designing-director",
   "metadata": {},
   "outputs": [],
   "source": [
    "# データインサート\n",
    "# インサート用のデータを作成\n",
    "inserts = sc._jvm.org.apache.hudi.QuickstartUtils.convertToStringList(dataGen.generateInserts(10))\n",
    "df = spark.read.json(spark.sparkContext.parallelize(inserts, 2))\n",
    "\n",
    "# Hudiのオプション\n",
    "hudi_options = {\n",
    "    'hoodie.table.name': tableName,\n",
    "    'hoodie.datasource.write.recordkey.field': 'uuid',\n",
    "    'hoodie.datasource.write.partitionpath.field': 'partitionpath',\n",
    "    'hoodie.datasource.write.table.name': tableName,\n",
    "    'hoodie.datasource.write.operation': 'upsert', # upsertを指定しているため、後述の更新処理の際もこのオプションをそのまま利用できる\n",
    "    'hoodie.datasource.write.precombine.field': 'ts',\n",
    "    'hoodie.upsert.shuffle.parallelism': 2, \n",
    "    'hoodie.insert.shuffle.parallelism': 2,\n",
    "    # 以下Hiveオプション(なお、現在Hiveを起動できないので使用できない)\n",
    "    # 'hoodie.datasource.hive_sync.enable': 'true',\n",
    "    # 'hoodie.datasource.hive_sync.database': 'default',\n",
    "    # 'hoodie.datasource.hive_sync.table': tableName,\n",
    "    # 'hoodie.datasource.hive_sync.partition_fields': 'contient,country,city',\n",
    "    # 'hoodie.datasource.hive_sync.partition_extractor_class': 'org.apache.hudi.hive.MultiPartKeysValueExtractor',\n",
    "    # 'hoodie.datasource.hive_sync.use_jdbc': 'false',\n",
    "}\n",
    "\n",
    "# データの書き込み\n",
    "# 「mode」にoverwriteが指定されている場合、新規にテーブルを作成する。(すでにテーブル等が存在する場合は、Dropされる)\n",
    "df.write.format(\"hudi\"). \\\n",
    "  options(**hudi_options). \\\n",
    "  mode(\"overwrite\"). \\\n",
    "  save(basePath)"
   ]
  },
  {
   "cell_type": "code",
   "execution_count": 5,
   "id": "material-patio",
   "metadata": {},
   "outputs": [
    {
     "name": "stdout",
     "output_type": "stream",
     "text": [
      "\u001b[0m\u001b[01;34mamericas\u001b[0m/  \u001b[01;34masia\u001b[0m/\r\n"
     ]
    }
   ],
   "source": [
    "# テーブル確認\n",
    "%ls /tmp/hudi_trips_cow/"
   ]
  },
  {
   "cell_type": "code",
   "execution_count": 6,
   "id": "confused-damage",
   "metadata": {},
   "outputs": [
    {
     "name": "stdout",
     "output_type": "stream",
     "text": [
      "+------------------+-------------------+-------------------+-------------+\n",
      "|              fare|          begin_lon|          begin_lat|           ts|\n",
      "+------------------+-------------------+-------------------+-------------+\n",
      "| 64.27696295884016| 0.4923479652912024| 0.5731835407930634|1613122976362|\n",
      "| 27.79478688582596| 0.6273212202489661|0.11488393157088261|1613143614746|\n",
      "| 33.92216483948643| 0.9694586417848392| 0.1856488085068272|1613290212227|\n",
      "| 93.56018115236618|0.14285051259466197|0.21624150367601136|1612919760094|\n",
      "|  43.4923811219014| 0.8779402295427752| 0.6100070562136587|1613406756346|\n",
      "|34.158284716382845|0.46157858450465483| 0.4726905879569653|1613220467917|\n",
      "| 66.62084366450246|0.03844104444445928| 0.0750588760043035|1613098090130|\n",
      "| 41.06290929046368| 0.8192868687714224|  0.651058505660742|1613250211029|\n",
      "+------------------+-------------------+-------------------+-------------+\n",
      "\n",
      "+-------------------+--------------------+----------------------+---------+----------+------------------+\n",
      "|_hoodie_commit_time|  _hoodie_record_key|_hoodie_partition_path|    rider|    driver|              fare|\n",
      "+-------------------+--------------------+----------------------+---------+----------+------------------+\n",
      "|     20210216103112|c7fefb7c-9b2a-453...|  americas/united_s...|rider-213|driver-213| 64.27696295884016|\n",
      "|     20210216103112|bf7e79f3-9e47-4b9...|  americas/united_s...|rider-213|driver-213|19.179139106643607|\n",
      "|     20210216103112|f5d8dbb0-e773-4e3...|  americas/united_s...|rider-213|driver-213| 27.79478688582596|\n",
      "|     20210216103112|9520f139-7b96-4b4...|  americas/united_s...|rider-213|driver-213| 33.92216483948643|\n",
      "|     20210216103112|cefc00b9-bf58-4bd...|  americas/united_s...|rider-213|driver-213| 93.56018115236618|\n",
      "|     20210216103112|ecd16b57-b100-462...|  americas/brazil/s...|rider-213|driver-213|  43.4923811219014|\n",
      "|     20210216103112|37333502-cc20-4a7...|  americas/brazil/s...|rider-213|driver-213|34.158284716382845|\n",
      "|     20210216103112|d15af8f5-df63-4db...|  americas/brazil/s...|rider-213|driver-213| 66.62084366450246|\n",
      "|     20210216103112|4852c8c8-a53c-4f8...|    asia/india/chennai|rider-213|driver-213| 41.06290929046368|\n",
      "|     20210216103112|cb88a571-850b-4a3...|    asia/india/chennai|rider-213|driver-213|17.851135255091155|\n",
      "+-------------------+--------------------+----------------------+---------+----------+------------------+\n",
      "\n"
     ]
    }
   ],
   "source": [
    "# データクエリ\n",
    "# DataFrameを読み込む\n",
    "tripsSnapshotDF = spark. \\\n",
    "  read. \\\n",
    "  format(\"hudi\"). \\\n",
    "  load(basePath + \"/*/*/*/*\")\n",
    "# load(basePath) use \"/partitionKey=partitionValue\" folder structure for Spark auto partition discovery\n",
    "\n",
    "# DataFrameにテーブル名をつける(SQLのViewのようなもの)\n",
    "tripsSnapshotDF.createOrReplaceTempView(\"hudi_trips_snapshot\")\n",
    "\n",
    "# クエリの実行\n",
    "spark.sql(\"SELECT fare, begin_lon, begin_lat, ts FROM hudi_trips_snapshot WHERE fare > 20.0\").show()\n",
    "spark.sql(\"SELECT _hoodie_commit_time, _hoodie_record_key, _hoodie_partition_path, rider, driver, fare FROM hudi_trips_snapshot\").show()"
   ]
  },
  {
   "cell_type": "code",
   "execution_count": 7,
   "id": "gentle-liverpool",
   "metadata": {},
   "outputs": [],
   "source": [
    "# データの更新\n",
    "# 更新用のデータ作成\n",
    "updates = sc._jvm.org.apache.hudi.QuickstartUtils.convertToStringList(dataGen.generateUpdates(10))\n",
    "df = spark.read.json(spark.sparkContext.parallelize(updates, 2))\n",
    "# データ更新\n",
    "df.write.format(\"hudi\"). \\\n",
    "  options(**hudi_options). \\\n",
    "  mode(\"append\"). \\\n",
    "  save(basePath)"
   ]
  },
  {
   "cell_type": "code",
   "execution_count": 8,
   "id": "standard-pavilion",
   "metadata": {},
   "outputs": [
    {
     "name": "stdout",
     "output_type": "stream",
     "text": [
      "+--------------------+------------------+---------+----------+-------------+\n",
      "|                uuid|              fare|    rider|    driver|           ts|\n",
      "+--------------------+------------------+---------+----------+-------------+\n",
      "|37333502-cc20-4a7...|34.158284716382845|rider-213|driver-213|1613220467917|\n",
      "|4852c8c8-a53c-4f8...| 41.06290929046368|rider-213|driver-213|1613250211029|\n",
      "|9520f139-7b96-4b4...| 33.92216483948643|rider-213|driver-213|1613290212227|\n",
      "|bf7e79f3-9e47-4b9...|19.179139106643607|rider-213|driver-213|1613230728881|\n",
      "|c7fefb7c-9b2a-453...| 64.27696295884016|rider-213|driver-213|1613122976362|\n",
      "|cb88a571-850b-4a3...|17.851135255091155|rider-213|driver-213|1612922184633|\n",
      "|cefc00b9-bf58-4bd...| 93.56018115236618|rider-213|driver-213|1612919760094|\n",
      "|d15af8f5-df63-4db...| 66.62084366450246|rider-213|driver-213|1613098090130|\n",
      "|ecd16b57-b100-462...|  43.4923811219014|rider-213|driver-213|1613406756346|\n",
      "|f5d8dbb0-e773-4e3...| 27.79478688582596|rider-213|driver-213|1613143614746|\n",
      "+--------------------+------------------+---------+----------+-------------+\n",
      "\n",
      "+--------------------+------------------+---------+----------+-------------+\n",
      "|                uuid|              fare|    rider|    driver|           ts|\n",
      "+--------------------+------------------+---------+----------+-------------+\n",
      "|37333502-cc20-4a7...| 29.47661370147079|rider-284|driver-284|1613270782929|\n",
      "|4852c8c8-a53c-4f8...| 9.384124531808036|rider-284|driver-284|1613053946461|\n",
      "|9520f139-7b96-4b4...|  90.9053809533154|rider-284|driver-284|1613165627662|\n",
      "|bf7e79f3-9e47-4b9...|19.179139106643607|rider-213|driver-213|1613230728881|\n",
      "|c7fefb7c-9b2a-453...|49.527694252432056|rider-284|driver-284|1613031249647|\n",
      "|cb88a571-850b-4a3...| 90.25710109008239|rider-284|driver-284|1612989352056|\n",
      "|cefc00b9-bf58-4bd...| 93.56018115236618|rider-213|driver-213|1612919760094|\n",
      "|d15af8f5-df63-4db...| 63.72504913279929|rider-284|driver-284|1613001583915|\n",
      "|ecd16b57-b100-462...|  43.4923811219014|rider-213|driver-213|1613406756346|\n",
      "|f5d8dbb0-e773-4e3...|  98.3428192817987|rider-284|driver-284|1613397342886|\n",
      "+--------------------+------------------+---------+----------+-------------+\n",
      "\n"
     ]
    }
   ],
   "source": [
    "# 更新確認\n",
    "from pyspark.sql.functions import col\n",
    "spark.sql(\"SELECT uuid, fare, rider, driver, ts FROM hudi_trips_snapshot ORDER BY uuid\").show()\n",
    "updatedDF = spark. \\\n",
    "  read. \\\n",
    "  format(\"hudi\"). \\\n",
    "  load(basePath + \"/*/*/*/*\")\n",
    "updatedDF.orderBy(col(\"uuid\")).select(\"uuid\", \"fare\", \"rider\", \"driver\", \"ts\").show()"
   ]
  },
  {
   "cell_type": "code",
   "execution_count": 9,
   "id": "documented-amplifier",
   "metadata": {},
   "outputs": [
    {
     "name": "stdout",
     "output_type": "stream",
     "text": [
      "SELECT: \n",
      "+--------------------+---------+------+\n",
      "|                uuid|    rider|is 213|\n",
      "+--------------------+---------+------+\n",
      "|c7fefb7c-9b2a-453...|rider-284| false|\n",
      "|bf7e79f3-9e47-4b9...|rider-213|  true|\n",
      "|f5d8dbb0-e773-4e3...|rider-284| false|\n",
      "|9520f139-7b96-4b4...|rider-284| false|\n",
      "|cefc00b9-bf58-4bd...|rider-213|  true|\n",
      "|4852c8c8-a53c-4f8...|rider-284| false|\n",
      "|cb88a571-850b-4a3...|rider-284| false|\n",
      "|ecd16b57-b100-462...|rider-213|  true|\n",
      "|37333502-cc20-4a7...|rider-284| false|\n",
      "|d15af8f5-df63-4db...|rider-284| false|\n",
      "+--------------------+---------+------+\n",
      "\n",
      "ADD COLUMN: \n",
      "+--------------------+---------+-------+\n",
      "|                uuid|    rider|boolean|\n",
      "+--------------------+---------+-------+\n",
      "|c7fefb7c-9b2a-453...|rider-284|  false|\n",
      "|bf7e79f3-9e47-4b9...|rider-213|   true|\n",
      "|f5d8dbb0-e773-4e3...|rider-284|  false|\n",
      "|9520f139-7b96-4b4...|rider-284|  false|\n",
      "|cefc00b9-bf58-4bd...|rider-213|   true|\n",
      "|4852c8c8-a53c-4f8...|rider-284|  false|\n",
      "|cb88a571-850b-4a3...|rider-284|  false|\n",
      "|ecd16b57-b100-462...|rider-213|   true|\n",
      "|37333502-cc20-4a7...|rider-284|  false|\n",
      "|d15af8f5-df63-4db...|rider-284|  false|\n",
      "+--------------------+---------+-------+\n",
      "\n",
      "['_hoodie_commit_time', '_hoodie_commit_seqno', '_hoodie_record_key', '_hoodie_partition_path', '_hoodie_file_name', 'begin_lat', 'begin_lon', 'driver', 'end_lat', 'end_lon', 'fare', 'partitionpath', 'rider', 'ts', 'uuid']\n",
      "UPDATE: BEFORE:\n",
      "+--------------------+---------+----------+\n",
      "|                uuid|    rider|    driver|\n",
      "+--------------------+---------+----------+\n",
      "|c7fefb7c-9b2a-453...|rider-284|driver-284|\n",
      "|bf7e79f3-9e47-4b9...|rider-213|driver-213|\n",
      "|f5d8dbb0-e773-4e3...|rider-284|driver-284|\n",
      "|9520f139-7b96-4b4...|rider-284|driver-284|\n",
      "|cefc00b9-bf58-4bd...|rider-213|driver-213|\n",
      "|4852c8c8-a53c-4f8...|rider-284|driver-284|\n",
      "|cb88a571-850b-4a3...|rider-284|driver-284|\n",
      "|ecd16b57-b100-462...|rider-213|driver-213|\n",
      "|37333502-cc20-4a7...|rider-284|driver-284|\n",
      "|d15af8f5-df63-4db...|rider-284|driver-284|\n",
      "+--------------------+---------+----------+\n",
      "\n",
      "UPDATE: AFTER:\n",
      "+--------------------+---------+------+\n",
      "|                uuid|    rider|driver|\n",
      "+--------------------+---------+------+\n",
      "|c7fefb7c-9b2a-453...|rider-284| false|\n",
      "|bf7e79f3-9e47-4b9...|rider-213|  true|\n",
      "|f5d8dbb0-e773-4e3...|rider-284| false|\n",
      "|9520f139-7b96-4b4...|rider-284| false|\n",
      "|cefc00b9-bf58-4bd...|rider-213|  true|\n",
      "|4852c8c8-a53c-4f8...|rider-284| false|\n",
      "|cb88a571-850b-4a3...|rider-284| false|\n",
      "|ecd16b57-b100-462...|rider-213|  true|\n",
      "|37333502-cc20-4a7...|rider-284| false|\n",
      "|d15af8f5-df63-4db...|rider-284| false|\n",
      "+--------------------+---------+------+\n",
      "\n"
     ]
    }
   ],
   "source": [
    "# 条件分岐\n",
    "from pyspark.sql.functions import col, when, lit\n",
    "# クエリの作成\n",
    "when_query = when(col(\"rider\") == \"rider-213\", \"true\").otherwise(\"false\").alias(\"is 213\")\n",
    "# SELECTで使用\n",
    "print(\"SELECT: \")\n",
    "updatedDF.select(\"uuid\", \"rider\", when_query).show()\n",
    "# カラム追加\n",
    "print(\"ADD COLUMN: \")\n",
    "updatedDF.withColumn(\"boolean\", when_query).select(\"uuid\", \"rider\", \"boolean\").show()\n",
    "# DataFrameはイミュータブルなので、変更処理は新しいDFを生成する\n",
    "# そのため、元のDFの定義は変わらない\n",
    "print(updatedDF.columns)\n",
    "\n",
    "# カラム更新\n",
    "print(\"UPDATE: BEFORE:\")\n",
    "updatedDF.select(\"uuid\", \"rider\", \"driver\").show()\n",
    "print(\"UPDATE: AFTER:\")\n",
    "updatedDF.withColumn(\"driver\", when_query).select(\"uuid\", \"rider\", \"driver\").show()"
   ]
  },
  {
   "cell_type": "code",
   "execution_count": null,
   "id": "breeding-coalition",
   "metadata": {},
   "outputs": [],
   "source": []
  }
 ],
 "metadata": {
  "kernelspec": {
   "display_name": "Python 3",
   "language": "python",
   "name": "python3"
  },
  "language_info": {
   "codemirror_mode": {
    "name": "ipython",
    "version": 3
   },
   "file_extension": ".py",
   "mimetype": "text/x-python",
   "name": "python",
   "nbconvert_exporter": "python",
   "pygments_lexer": "ipython3",
   "version": "3.8.6"
  }
 },
 "nbformat": 4,
 "nbformat_minor": 5
}
