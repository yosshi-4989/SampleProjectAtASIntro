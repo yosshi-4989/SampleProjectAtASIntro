{
 "cells": [
  {
   "cell_type": "markdown",
   "id": "federal-differential",
   "metadata": {},
   "source": [
    "## 参考資料\n",
    "\n",
    "- SparkのpackagesをSparkSession作成時に指定する方法: https://qiita.com/junkor-1011/items/b12ec62f2615d068c1a5\n",
    "- Hudiクイックスタート: https://hudi.apache.org/docs/0.7.0-quick-start-guide.html#pyspark-example\n",
    "- Hiveオプションについてのもの: https://dev.classmethod.jp/articles/apache-hudi-on-aws-sync-glue-data-catalog/"
   ]
  },
  {
   "cell_type": "code",
   "execution_count": 1,
   "id": "coordinated-flashing",
   "metadata": {},
   "outputs": [],
   "source": [
    "# 必要なSparkモジュールの読み込み\n",
    "from pyspark.sql import SparkSession"
   ]
  },
  {
   "cell_type": "code",
   "execution_count": 2,
   "id": "confirmed-music",
   "metadata": {},
   "outputs": [],
   "source": [
    "# SparkSessionの作成\n",
    "spark = SparkSession \\\n",
    "    .builder \\\n",
    "    .config(\"spark.jars.packages\", \"org.apache.hudi:hudi-spark-bundle_2.12:0.7.0,org.apache.spark:spark-avro_2.12:3.0.1\") \\\n",
    "    .config('spark.serializer', 'org.apache.spark.serializer.KryoSerializer') \\\n",
    "    .getOrCreate()\n",
    "sc = spark.sparkContext"
   ]
  },
  {
   "cell_type": "code",
   "execution_count": 3,
   "id": "urban-praise",
   "metadata": {},
   "outputs": [],
   "source": [
    "# テーブル設定\n",
    "tableName = \"hudi_trips_cow\"\n",
    "basePath = \"file:///tmp/hudi_trips_cow\"\n",
    "# サンプルデータ生成用ライブラリの読み込み\n",
    "dataGen = sc._jvm.org.apache.hudi.QuickstartUtils.DataGenerator()"
   ]
  },
  {
   "cell_type": "code",
   "execution_count": 4,
   "id": "designing-director",
   "metadata": {},
   "outputs": [],
   "source": [
    "# データインサート\n",
    "# インサート用のデータを作成\n",
    "inserts = sc._jvm.org.apache.hudi.QuickstartUtils.convertToStringList(dataGen.generateInserts(10))\n",
    "df = spark.read.json(spark.sparkContext.parallelize(inserts, 2))\n",
    "\n",
    "# Hudiのオプション\n",
    "hudi_options = {\n",
    "    'hoodie.table.name': tableName,\n",
    "    'hoodie.datasource.write.recordkey.field': 'uuid',\n",
    "    'hoodie.datasource.write.partitionpath.field': 'partitionpath',\n",
    "    'hoodie.datasource.write.table.name': tableName,\n",
    "    'hoodie.datasource.write.operation': 'upsert', # upsertを指定しているため、後述の更新処理の際もこのオプションをそのまま利用できる\n",
    "    'hoodie.datasource.write.precombine.field': 'ts',\n",
    "    'hoodie.upsert.shuffle.parallelism': 2, \n",
    "    'hoodie.insert.shuffle.parallelism': 2,\n",
    "    # 以下Hiveオプション(なお、現在Hiveを起動できないので使用できない)\n",
    "    # 'hoodie.datasource.hive_sync.enable': 'true',\n",
    "    # 'hoodie.datasource.hive_sync.database': 'default',\n",
    "    # 'hoodie.datasource.hive_sync.table': tableName,\n",
    "    # 'hoodie.datasource.hive_sync.partition_fields': 'contient,country,city',\n",
    "    # 'hoodie.datasource.hive_sync.partition_extractor_class': 'org.apache.hudi.hive.MultiPartKeysValueExtractor',\n",
    "    # 'hoodie.datasource.hive_sync.use_jdbc': 'false',\n",
    "}\n",
    "\n",
    "# データの書き込み\n",
    "# 「mode」にoverwriteが指定されている場合、新規にテーブルを作成する。(すでにテーブル等が存在する場合は、Dropされる)\n",
    "df.write.format(\"hudi\"). \\\n",
    "  options(**hudi_options). \\\n",
    "  mode(\"overwrite\"). \\\n",
    "  save(basePath)"
   ]
  },
  {
   "cell_type": "code",
   "execution_count": 5,
   "id": "persistent-guidance",
   "metadata": {},
   "outputs": [
    {
     "name": "stdout",
     "output_type": "stream",
     "text": [
      "\u001b[0m\u001b[01;34mamericas\u001b[0m/  \u001b[01;34masia\u001b[0m/\r\n"
     ]
    }
   ],
   "source": [
    "# テーブル確認\n",
    "%ls /tmp/hudi_trips_cow/"
   ]
  },
  {
   "cell_type": "code",
   "execution_count": 6,
   "id": "confused-damage",
   "metadata": {},
   "outputs": [
    {
     "name": "stdout",
     "output_type": "stream",
     "text": [
      "+------------------+-------------------+-------------------+-------------+\n",
      "|              fare|          begin_lon|          begin_lat|           ts|\n",
      "+------------------+-------------------+-------------------+-------------+\n",
      "| 27.79478688582596| 0.6273212202489661|0.11488393157088261|1613220491019|\n",
      "| 93.56018115236618|0.14285051259466197|0.21624150367601136|1612848023511|\n",
      "| 33.92216483948643| 0.9694586417848392| 0.1856488085068272|1613195135367|\n",
      "| 64.27696295884016| 0.4923479652912024| 0.5731835407930634|1613120973856|\n",
      "|  43.4923811219014| 0.8779402295427752| 0.6100070562136587|1613296123130|\n",
      "|34.158284716382845|0.46157858450465483| 0.4726905879569653|1613398114469|\n",
      "| 66.62084366450246|0.03844104444445928| 0.0750588760043035|1613043859793|\n",
      "| 41.06290929046368| 0.8192868687714224|  0.651058505660742|1613111667302|\n",
      "+------------------+-------------------+-------------------+-------------+\n",
      "\n",
      "+-------------------+--------------------+----------------------+---------+----------+------------------+\n",
      "|_hoodie_commit_time|  _hoodie_record_key|_hoodie_partition_path|    rider|    driver|              fare|\n",
      "+-------------------+--------------------+----------------------+---------+----------+------------------+\n",
      "|     20210215141808|2e5c4ca5-3f65-499...|  americas/united_s...|rider-213|driver-213|19.179139106643607|\n",
      "|     20210215141808|7e1c06b4-4855-4b1...|  americas/united_s...|rider-213|driver-213| 27.79478688582596|\n",
      "|     20210215141808|d0bd884b-d0e5-458...|  americas/united_s...|rider-213|driver-213| 93.56018115236618|\n",
      "|     20210215141808|a072ce2a-1254-43d...|  americas/united_s...|rider-213|driver-213| 33.92216483948643|\n",
      "|     20210215141808|4ac0e8ea-b348-4c6...|  americas/united_s...|rider-213|driver-213| 64.27696295884016|\n",
      "|     20210215141808|07f54b00-6e67-490...|  americas/brazil/s...|rider-213|driver-213|  43.4923811219014|\n",
      "|     20210215141808|4993421c-3b43-4fb...|  americas/brazil/s...|rider-213|driver-213|34.158284716382845|\n",
      "|     20210215141808|11271645-1998-458...|  americas/brazil/s...|rider-213|driver-213| 66.62084366450246|\n",
      "|     20210215141808|6d776c96-10fe-4ec...|    asia/india/chennai|rider-213|driver-213| 41.06290929046368|\n",
      "|     20210215141808|34fb050a-d5d3-465...|    asia/india/chennai|rider-213|driver-213|17.851135255091155|\n",
      "+-------------------+--------------------+----------------------+---------+----------+------------------+\n",
      "\n"
     ]
    }
   ],
   "source": [
    "# データクエリ\n",
    "# DataFrameを読み込む\n",
    "tripsSnapshotDF = spark. \\\n",
    "  read. \\\n",
    "  format(\"hudi\"). \\\n",
    "  load(basePath + \"/*/*/*/*\")\n",
    "# load(basePath) use \"/partitionKey=partitionValue\" folder structure for Spark auto partition discovery\n",
    "\n",
    "# DataFrameにテーブル名をつける(SQLのViewのようなもの)\n",
    "tripsSnapshotDF.createOrReplaceTempView(\"hudi_trips_snapshot\")\n",
    "\n",
    "# クエリの実行\n",
    "spark.sql(\"SELECT fare, begin_lon, begin_lat, ts FROM hudi_trips_snapshot WHERE fare > 20.0\").show()\n",
    "spark.sql(\"SELECT _hoodie_commit_time, _hoodie_record_key, _hoodie_partition_path, rider, driver, fare FROM hudi_trips_snapshot\").show()"
   ]
  },
  {
   "cell_type": "code",
   "execution_count": 7,
   "id": "inclusive-nursing",
   "metadata": {},
   "outputs": [],
   "source": [
    "# データの更新\n",
    "# 更新用のデータ作成\n",
    "updates = sc._jvm.org.apache.hudi.QuickstartUtils.convertToStringList(dataGen.generateUpdates(10))\n",
    "df = spark.read.json(spark.sparkContext.parallelize(updates, 2))\n",
    "# データ更新\n",
    "df.write.format(\"hudi\"). \\\n",
    "  options(**hudi_options). \\\n",
    "  mode(\"append\"). \\\n",
    "  save(basePath)"
   ]
  },
  {
   "cell_type": "code",
   "execution_count": 8,
   "id": "configured-mineral",
   "metadata": {},
   "outputs": [
    {
     "name": "stdout",
     "output_type": "stream",
     "text": [
      "+--------------------+------------------+-------------------+-------------------+-------------+\n",
      "|                uuid|              fare|          begin_lon|          begin_lat|           ts|\n",
      "+--------------------+------------------+-------------------+-------------------+-------------+\n",
      "|07f54b00-6e67-490...|  43.4923811219014| 0.8779402295427752| 0.6100070562136587|1613296123130|\n",
      "|11271645-1998-458...| 66.62084366450246|0.03844104444445928| 0.0750588760043035|1613043859793|\n",
      "|2e5c4ca5-3f65-499...|19.179139106643607| 0.7528268153249502| 0.8742041526408587|1613220393034|\n",
      "|34fb050a-d5d3-465...|17.851135255091155| 0.5644092139040959|   0.40613510977307|1613212362950|\n",
      "|4993421c-3b43-4fb...|34.158284716382845|0.46157858450465483| 0.4726905879569653|1613398114469|\n",
      "|4ac0e8ea-b348-4c6...| 64.27696295884016| 0.4923479652912024| 0.5731835407930634|1613120973856|\n",
      "|6d776c96-10fe-4ec...| 41.06290929046368| 0.8192868687714224|  0.651058505660742|1613111667302|\n",
      "|7e1c06b4-4855-4b1...| 27.79478688582596| 0.6273212202489661|0.11488393157088261|1613220491019|\n",
      "|a072ce2a-1254-43d...| 33.92216483948643| 0.9694586417848392| 0.1856488085068272|1613195135367|\n",
      "|d0bd884b-d0e5-458...| 93.56018115236618|0.14285051259466197|0.21624150367601136|1612848023511|\n",
      "+--------------------+------------------+-------------------+-------------------+-------------+\n",
      "\n",
      "+--------------------+------------------+--------------------+--------------------+-------------+\n",
      "|                uuid|              fare|           begin_lon|           begin_lat|           ts|\n",
      "+--------------------+------------------+--------------------+--------------------+-------------+\n",
      "|07f54b00-6e67-490...|  43.4923811219014|  0.8779402295427752|  0.6100070562136587|1613296123130|\n",
      "|11271645-1998-458...| 63.72504913279929|   0.888493603696927|  0.6570857443423376|1612818763097|\n",
      "|2e5c4ca5-3f65-499...|19.179139106643607|  0.7528268153249502|  0.8742041526408587|1613220393034|\n",
      "|34fb050a-d5d3-465...| 90.25710109008239|  0.4006983139989222| 0.08528650347654165|1613271885199|\n",
      "|4993421c-3b43-4fb...| 29.47661370147079|0.010872312870502165|  0.1593867607188556|1613386097570|\n",
      "|4ac0e8ea-b348-4c6...|49.527694252432056|  0.5142184937933181|  0.7340133901254792|1612937382386|\n",
      "|6d776c96-10fe-4ec...| 9.384124531808036|  0.6999655248704163| 0.16603428449020086|1613072233555|\n",
      "|7e1c06b4-4855-4b1...|  98.3428192817987|  0.3349917833248327|  0.4777395067707303|1612912913953|\n",
      "|a072ce2a-1254-43d...| 2.375516772415698| 0.42849372303000655|0.014159831486388885|1613257912919|\n",
      "|d0bd884b-d0e5-458...| 93.56018115236618| 0.14285051259466197| 0.21624150367601136|1612848023511|\n",
      "+--------------------+------------------+--------------------+--------------------+-------------+\n",
      "\n"
     ]
    }
   ],
   "source": [
    "# 更新確認\n",
    "from pyspark.sql.functions import col\n",
    "spark.sql(\"SELECT uuid, fare, begin_lon, begin_lat, ts FROM hudi_trips_snapshot ORDER BY uuid\").show()\n",
    "updatedDF = spark. \\\n",
    "  read. \\\n",
    "  format(\"hudi\"). \\\n",
    "  load(basePath + \"/*/*/*/*\")\n",
    "updatedDF.orderBy(col(\"uuid\")).select(\"uuid\", \"fare\", \"begin_lon\", \"begin_lat\", \"ts\").show()"
   ]
  },
  {
   "cell_type": "code",
   "execution_count": null,
   "id": "double-vegetarian",
   "metadata": {},
   "outputs": [],
   "source": []
  }
 ],
 "metadata": {
  "kernelspec": {
   "display_name": "Python 3",
   "language": "python",
   "name": "python3"
  },
  "language_info": {
   "codemirror_mode": {
    "name": "ipython",
    "version": 3
   },
   "file_extension": ".py",
   "mimetype": "text/x-python",
   "name": "python",
   "nbconvert_exporter": "python",
   "pygments_lexer": "ipython3",
   "version": "3.8.6"
  }
 },
 "nbformat": 4,
 "nbformat_minor": 5
}
